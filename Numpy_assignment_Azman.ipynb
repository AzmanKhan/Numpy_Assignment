{
 "cells": [
  {
   "cell_type": "markdown",
   "metadata": {},
   "source": [
    "# 1. What is a Python library? Why do we use Python libraries?"
   ]
  },
  {
   "cell_type": "markdown",
   "metadata": {},
   "source": [
    "A Python library is a collection of pre-written code modules that you can use to perform common tasks, saving you time and effort."
   ]
  },
  {
   "cell_type": "raw",
   "metadata": {},
   "source": [
    "Efficiency: Reduces the need to write code from scratch.\n",
    "Reusability: Leverages existing, well-tested code.\n",
    "Specialization: Provides tools for specific tasks (e.g., data analysis, web development).\n",
    "Community Support: Benefits from regular updates and community contributions.\n",
    "Standardization: Ensures code follows industry standards."
   ]
  },
  {
   "cell_type": "markdown",
   "metadata": {},
   "source": [
    "# 2. What is the difference between Numpy array and List?"
   ]
  },
  {
   "cell_type": "markdown",
   "metadata": {},
   "source": [
    "NumPy Array: Provides a wide range of mathematical functions and supports multi-dimensional arrays, making it suitable for numerical and scientific computing.\n",
    "\n",
    "Python List: More versatile for general-purpose programming but lacks built-in support for advanced mathematical operations."
   ]
  },
  {
   "cell_type": "markdown",
   "metadata": {},
   "source": [
    "# 3. Find the shape, size and dimension of the following array?\n",
    "# [[1, 2, 3, 4]\n",
    "# [5, 6, 7, 8],\n",
    "# [9, 10, 11, 12]]"
   ]
  },
  {
   "cell_type": "code",
   "execution_count": 2,
   "metadata": {},
   "outputs": [
    {
     "name": "stdout",
     "output_type": "stream",
     "text": [
      "Shape: (3, 4)\n",
      "Size: 12\n",
      "Dimensions: 2\n"
     ]
    }
   ],
   "source": [
    "import numpy as np \n",
    "array =np.array( [[1, 2, 3, 4],[5, 6, 7, 8],[9, 10, 11, 12]] )\n",
    "\n",
    "shape = array.shape\n",
    "size = array.size\n",
    "ndim = array.ndim\n",
    "print(\"Shape:\", shape)\n",
    "print(\"Size:\", size)\n",
    "print(\"Dimensions:\", ndim)"
   ]
  },
  {
   "cell_type": "markdown",
   "metadata": {},
   "source": [
    "# 4. Write python code to access the first row of the following array?\n",
    "# [[1, 2, 3, 4]\n",
    "# [5, 6, 7, 8],\n",
    "# [9, 10, 11, 12]]"
   ]
  },
  {
   "cell_type": "code",
   "execution_count": 8,
   "metadata": {},
   "outputs": [
    {
     "name": "stdout",
     "output_type": "stream",
     "text": [
      "First row = [1 2 3 4]\n"
     ]
    }
   ],
   "source": [
    "arr = np.array([[1, 2, 3, 4],[5, 6, 7, 8],[9, 10, 11, 12]])\n",
    "\n",
    "row = arr[0]\n",
    "print(\"First row =\",row)"
   ]
  },
  {
   "cell_type": "markdown",
   "metadata": {},
   "source": [
    "# 5. How do you access the element at the third row and fourth column from the given numpy array?\n",
    "# [[1, 2, 3, 4]\n",
    "# [5, 6, 7, 8],\n",
    "# [9, 10, 11, 12]]"
   ]
  },
  {
   "cell_type": "code",
   "execution_count": 20,
   "metadata": {},
   "outputs": [
    {
     "data": {
      "text/plain": [
       "12"
      ]
     },
     "execution_count": 20,
     "metadata": {},
     "output_type": "execute_result"
    }
   ],
   "source": [
    "array = np.array ([[1, 2, 3, 4],[5, 6, 7, 8],[9, 10, 11, 12]])\n",
    "# to access the third row and forth column ele\n",
    "ele = array[2,3]\n",
    "ele"
   ]
  },
  {
   "cell_type": "markdown",
   "metadata": {},
   "source": [
    "# 6. Write coed to extract all odd -indexed elements from the given numpy array?\n",
    "# [[1, 2, 3, 4]\n",
    "# [5, 6, 7, 8],\n",
    "# [9, 10, 11, 12]]"
   ]
  },
  {
   "cell_type": "code",
   "execution_count": 32,
   "metadata": {},
   "outputs": [
    {
     "name": "stdout",
     "output_type": "stream",
     "text": [
      "the odd indexed element is [[6 8]]\n"
     ]
    }
   ],
   "source": [
    "array = np.array([[1, 2, 3, 4],[5, 6, 7, 8],[9, 10, 11, 12]])\n",
    "# to extract all the odd index we can jump\n",
    "odd_ind = array[1::2, 1::2]\n",
    "print(f\"the odd indexed element is {odd_ind}\")"
   ]
  },
  {
   "cell_type": "markdown",
   "metadata": {},
   "source": [
    "#  7. How can you generate a random 3x3 matrix with values between 0 and 1?"
   ]
  },
  {
   "cell_type": "code",
   "execution_count": 50,
   "metadata": {},
   "outputs": [
    {
     "name": "stdout",
     "output_type": "stream",
     "text": [
      "[[0.70716721 0.52214112 0.78263884]\n",
      " [0.69042674 0.95853495 0.03365645]\n",
      " [0.0057598  0.23248511 0.18278573]]\n"
     ]
    }
   ],
   "source": [
    "random_array = np.random.rand(3,3)\n",
    "# to print between 0 to 1  \n",
    "print(random_array)"
   ]
  },
  {
   "cell_type": "markdown",
   "metadata": {},
   "source": [
    "# 8. Describe the difference between np.random.rand and np.random.randn?"
   ]
  },
  {
   "cell_type": "markdown",
   "metadata": {},
   "source": [
    "np.random.rand: This function generates random numbers from a uniform distribution between 0 and 1. It takes the shape of the output array as arguments and returns an array with random values.\n",
    "\n",
    "np.random.randn: This function generates random numbers from a standard normal distribution (mean 0, standard deviation 1). Like rand, it also takes the shape of the output array as arguments, but it returns an array with random values sampled from a normal distribution."
   ]
  },
  {
   "cell_type": "code",
   "execution_count": 52,
   "metadata": {},
   "outputs": [],
   "source": [
    "random_array_rand = np.random.rand(3,3)\n",
    "random_array_randn = np.random.randn(3,3)"
   ]
  },
  {
   "cell_type": "code",
   "execution_count": 56,
   "metadata": {},
   "outputs": [
    {
     "name": "stdout",
     "output_type": "stream",
     "text": [
      "If we take random.randn\n"
     ]
    },
    {
     "data": {
      "text/plain": [
       "array([[-0.35494421, -1.43881758,  0.56503546],\n",
       "       [ 0.2558417 ,  0.83473601,  0.28083479],\n",
       "       [ 1.03605173,  1.22030253, -0.82419794]])"
      ]
     },
     "execution_count": 56,
     "metadata": {},
     "output_type": "execute_result"
    }
   ],
   "source": [
    "print(\"If we take random.randn\")\n",
    "random_array_randn "
   ]
  },
  {
   "cell_type": "code",
   "execution_count": 64,
   "metadata": {},
   "outputs": [
    {
     "name": "stdout",
     "output_type": "stream",
     "text": [
      "If we take random.rand\n"
     ]
    }
   ],
   "source": [
    "random_array_rand = np.random.rand(3,3)\n",
    "print(\"If we take random.rand\")"
   ]
  },
  {
   "cell_type": "markdown",
   "metadata": {},
   "source": [
    "# 9. Write code to increase the dimension of the following array?\n",
    "# [[1, 2, 3, 4]\n",
    "# [5, 6, 7, 8],\n",
    "# [9, 10, 11, 12]]"
   ]
  },
  {
   "cell_type": "code",
   "execution_count": 63,
   "metadata": {},
   "outputs": [
    {
     "name": "stdout",
     "output_type": "stream",
     "text": [
      "The dimension of previous array 2\n",
      "The dimension of new array 3\n"
     ]
    }
   ],
   "source": [
    "array = np.array([[1, 2, 3, 4],[5, 6, 7, 8],[9, 10, 11, 12]])\n",
    "\n",
    "increse_dim = np.expand_dims(array, axis =1)\n",
    "\n",
    "print(\"The dimension of previous array\",array.ndim)\n",
    "print(\"The dimension of new array\",increse_dim.ndim)\n"
   ]
  },
  {
   "cell_type": "markdown",
   "metadata": {},
   "source": [
    "# 10. How to transpose the following array in NumPy?\n",
    "# [[1, 2, 3, 4]\n",
    "# [5, 6, 7, 8],\n",
    "# [9, 10, 11, 12]]"
   ]
  },
  {
   "cell_type": "code",
   "execution_count": 76,
   "metadata": {},
   "outputs": [
    {
     "name": "stdout",
     "output_type": "stream",
     "text": [
      "the array before transpose :\n",
      " [[ 1  2  3  4]\n",
      " [ 5  6  7  8]\n",
      " [ 9 10 11 12]]\n",
      "the array after transpose :\n",
      " [[ 1  5  9]\n",
      " [ 2  6 10]\n",
      " [ 3  7 11]\n",
      " [ 4  8 12]]\n"
     ]
    }
   ],
   "source": [
    "array = np.array([[1, 2, 3, 4],[5, 6, 7, 8],[9, 10, 11, 12]])\n",
    "\n",
    "#to transpose a matrix we can use a function transpose  \n",
    "transpose_array = array.transpose()\n",
    "print(f\"the array before transpose :\\n {array}\")\n",
    "print(f\"the array after transpose :\\n {transpose_array}\")"
   ]
  },
  {
   "cell_type": "markdown",
   "metadata": {},
   "source": [
    "# 11. Consider the following matrix:\n",
    "# Matrix A2 [[1, 2, 3, 4] [5, 6, 7, 8],[9, 10, 11, 12]]\n",
    "# Matrix B2 [[1, 2, 3, 4] [5, 6, 7, 8],[9, 10, 11, 12]]\n",
    "# Perform the following operation using Python1\n",
    "# 1 Index wise multiplication\n",
    "# 2 Matix multiplication\n",
    "# 3 Add both the matics\n",
    "# 4 Subtact matix B from A \n",
    "# 5 Divide Matix B by A"
   ]
  },
  {
   "cell_type": "code",
   "execution_count": 98,
   "metadata": {},
   "outputs": [
    {
     "name": "stdout",
     "output_type": "stream",
     "text": [
      "The index wise multiplication result is: \n",
      " [[  1   4   9  16]\n",
      " [ 25  36  49  64]\n",
      " [ 81 100 121 144]]\n",
      "The result of Matrix multiplication is :\n",
      " [[ 30  70 110]\n",
      " [ 70 174 278]\n",
      " [110 278 446]]\n",
      "The resutlt of addition is \n",
      " [[ 2  4  6  8]\n",
      " [10 12 14 16]\n",
      " [18 20 22 24]]\n",
      "The result of subtraction is: \n",
      " [[0 0 0 0]\n",
      " [0 0 0 0]\n",
      " [0 0 0 0]]\n",
      "The result of division B2 by A1 is :\n",
      " [[1. 1. 1. 1.]\n",
      " [1. 1. 1. 1.]\n",
      " [1. 1. 1. 1.]]\n"
     ]
    }
   ],
   "source": [
    "\n",
    "A1 = np.array([[1, 2, 3, 4], [5, 6, 7, 8],[9, 10, 11, 12]])\n",
    "B2 = np.array([[1, 2, 3, 4] ,[5, 6, 7, 8],[9, 10, 11, 12]])\n",
    "\n",
    "# 1 Index wise multiplication\n",
    "multi = A1*B2\n",
    "print(\"The index wise multiplication result is: \\n\",multi)\n",
    "\n",
    "#2 Matrix multiplication \n",
    "mat_multi = A1 @ B2.T  # Transpose B2 to match dimensions for multiplication\n",
    "print(\"The result of Matrix multiplication is :\\n\",mat_multi)\n",
    "\n",
    "\n",
    "#3 Adding the array \n",
    "add = A1 + B2\n",
    "print(\"The resutlt of addition is \\n\",add)\n",
    "\n",
    "# 4 subtracting an array \n",
    "sub =  B2 -A1 \n",
    "print(\"The result of subtraction is: \\n\",sub)\n",
    "\n",
    "#5 divide Matrix B2 by A1\n",
    "divide = B2/A1\n",
    "print(\"The result of division B2 by A1 is :\\n\",divide)\n"
   ]
  },
  {
   "cell_type": "markdown",
   "metadata": {},
   "source": [
    "# 12. Which function in Numpy can be used to swap the byte order of an array?"
   ]
  },
  {
   "cell_type": "code",
   "execution_count": 101,
   "metadata": {},
   "outputs": [
    {
     "name": "stdout",
     "output_type": "stream",
     "text": [
      "Original array: [1 2 3 4]\n",
      "Array with byte order swapped:\n",
      " [ 72057594037927936 144115188075855872 216172782113783808\n",
      " 288230376151711744]\n"
     ]
    }
   ],
   "source": [
    "# byteswap() is used to swap the byte order of an array\n",
    "arr = np.array([1, 2, 3, 4])\n",
    "\n",
    "# Swap the byte order of the array\n",
    "arr_swapped = arr.byteswap()\n",
    "\n",
    "print(\"Original array:\", arr)\n",
    "print(\"Array with byte order swapped:\\n\", arr_swapped)\n"
   ]
  },
  {
   "cell_type": "markdown",
   "metadata": {},
   "source": [
    "# 13. What is the significance of the np.linalg.inv function?\n"
   ]
  },
  {
   "cell_type": "markdown",
   "metadata": {},
   "source": [
    "The np.linalg.inv function in NumPy is used to compute the inverse of a square matrix.\n",
    "\n",
    "The significance of this function lies in various mathematical and computational applications, particularly in linear algebra and solving systems of linear equations."
   ]
  },
  {
   "cell_type": "markdown",
   "metadata": {},
   "source": [
    "# 14. What does the np.reshape function do, and how is it used?"
   ]
  },
  {
   "cell_type": "markdown",
   "metadata": {},
   "source": [
    "The np.reshape function in NumPy is used to change the shape of an array without changing its data. It allows you to rearrange the elements of an array into a new shape, as long as the total number of elements remains the same.\n",
    "for example 2*3 matrix can be reshaped in  3*2 matix or 6*1 or 1*6"
   ]
  },
  {
   "cell_type": "code",
   "execution_count": 108,
   "metadata": {},
   "outputs": [
    {
     "data": {
      "text/plain": [
       "array([[1, 2],\n",
       "       [3, 4],\n",
       "       [5, 6]])"
      ]
     },
     "execution_count": 108,
     "metadata": {},
     "output_type": "execute_result"
    }
   ],
   "source": [
    "#\n",
    "array = np.array([[1, 2, 3],\n",
    "                  [4, 5, 6]])\n",
    "\n",
    "# Reshape the array to a new shape\n",
    "reshaped_array = np.reshape(array,(3,2))\n",
    "reshaped_array"
   ]
  },
  {
   "cell_type": "markdown",
   "metadata": {},
   "source": [
    "# 15. What is broadcasting in Numpy?"
   ]
  },
  {
   "cell_type": "markdown",
   "metadata": {},
   "source": [
    "Broadcasting allows arrays of different shapes to be combined together in arithmetic and logical operations. It enables you to perform element-wise operations between arrays with different shapes, without the need to explicitly reshape or replicate the arrays to match each other's shapes."
   ]
  },
  {
   "cell_type": "code",
   "execution_count": 109,
   "metadata": {},
   "outputs": [
    {
     "name": "stdout",
     "output_type": "stream",
     "text": [
      "Result of broadcasting:\n",
      "[[5 6 7]\n",
      " [6 7 8]\n",
      " [7 8 9]]\n"
     ]
    }
   ],
   "source": [
    "# two arrays of different shapes\n",
    "x = np.array([1, 2, 3])     # Shape: (3,)\n",
    "y = np.array([[4], [5], [6]])  # Shape: (3, 1)\n",
    "\n",
    "# Perform element-wise addition using broadcasting\n",
    "result = x + y\n",
    "\n",
    "print(\"Result of broadcasting:\")\n",
    "print(result)\n"
   ]
  },
  {
   "cell_type": "code",
   "execution_count": null,
   "metadata": {},
   "outputs": [],
   "source": []
  }
 ],
 "metadata": {
  "kernelspec": {
   "display_name": "Python 3 (ipykernel)",
   "language": "python",
   "name": "python3"
  },
  "language_info": {
   "codemirror_mode": {
    "name": "ipython",
    "version": 3
   },
   "file_extension": ".py",
   "mimetype": "text/x-python",
   "name": "python",
   "nbconvert_exporter": "python",
   "pygments_lexer": "ipython3",
   "version": "3.10.8"
  }
 },
 "nbformat": 4,
 "nbformat_minor": 4
}
